{
 "cells": [
  {
   "cell_type": "code",
   "execution_count": 1,
   "id": "9c134994",
   "metadata": {},
   "outputs": [],
   "source": [
    "import pandas as pd\n",
    "import matplotlib.pyplot as plt\n",
    "import numpy as np\n",
    "import seaborn as sns\n",
    "from sklearn.cluster import KMeans\n",
    "from sklearn.metrics import accuracy_score\n",
    "from sklearn.preprocessing import StandardScaler\n",
    "from sklearn.preprocessing import MinMaxScaler\n",
    "import joblib\n",
    "from sklearn.neighbors import NearestNeighbors"
   ]
  },
  {
   "cell_type": "code",
   "execution_count": 3,
   "id": "589581cb",
   "metadata": {},
   "outputs": [],
   "source": [
    "loaded_km = joblib.load('../raw_data/knn_model.joblib')"
   ]
  },
  {
   "cell_type": "code",
   "execution_count": 8,
   "id": "90dfbc17",
   "metadata": {},
   "outputs": [
    {
     "ename": "TypeError",
     "evalue": "_BaseKMeans.predict() missing 1 required positional argument: 'X'",
     "output_type": "error",
     "traceback": [
      "\u001b[0;31m---------------------------------------------------------------------------\u001b[0m",
      "\u001b[0;31mTypeError\u001b[0m                                 Traceback (most recent call last)",
      "Cell \u001b[0;32mIn [8], line 1\u001b[0m\n\u001b[0;32m----> 1\u001b[0m \u001b[43mloaded_km\u001b[49m\u001b[38;5;241;43m.\u001b[39;49m\u001b[43mpredict\u001b[49m\u001b[43m(\u001b[49m\u001b[43m)\u001b[49m\n",
      "\u001b[0;31mTypeError\u001b[0m: _BaseKMeans.predict() missing 1 required positional argument: 'X'"
     ]
    }
   ],
   "source": [
    "loaded_km.predict()"
   ]
  },
  {
   "cell_type": "code",
   "execution_count": 5,
   "id": "1313b337",
   "metadata": {},
   "outputs": [],
   "source": [
    "test = pd.read_csv(\"../raw_data/centerback.csv\")"
   ]
  },
  {
   "cell_type": "code",
   "execution_count": 11,
   "id": "964c60d8",
   "metadata": {
    "collapsed": true
   },
   "outputs": [
    {
     "data": {
      "text/plain": [
       "club                      object\n",
       "shooting                 float64\n",
       "dribbling_control        float64\n",
       "passing_vision           float64\n",
       "tackling_interception    float64\n",
       "aerial_defense           float64\n",
       "speed_agility            float64\n",
       "strength_stamina         float64\n",
       "decision_making          float64\n",
       "work_ethic_effort        float64\n",
       "leadership               float64\n",
       "teamwork                 float64\n",
       "goalkeeping_abilities    float64\n",
       "behavioral_attributes    float64\n",
       "player_traits            float64\n",
       "club_rating              float64\n",
       "dtype: object"
      ]
     },
     "execution_count": 11,
     "metadata": {},
     "output_type": "execute_result"
    }
   ],
   "source": [
    "test.dtypes"
   ]
  },
  {
   "cell_type": "code",
   "execution_count": 49,
   "id": "8272db0d",
   "metadata": {},
   "outputs": [],
   "source": [
    "df1 = test[test['club'] == 'Club Brugge']\n",
    "df2 = test[test['club'] == 'Man City']"
   ]
  },
  {
   "cell_type": "code",
   "execution_count": 50,
   "id": "f718cee5",
   "metadata": {},
   "outputs": [
    {
     "data": {
      "text/html": [
       "<div>\n",
       "<style scoped>\n",
       "    .dataframe tbody tr th:only-of-type {\n",
       "        vertical-align: middle;\n",
       "    }\n",
       "\n",
       "    .dataframe tbody tr th {\n",
       "        vertical-align: top;\n",
       "    }\n",
       "\n",
       "    .dataframe thead th {\n",
       "        text-align: right;\n",
       "    }\n",
       "</style>\n",
       "<table border=\"1\" class=\"dataframe\">\n",
       "  <thead>\n",
       "    <tr style=\"text-align: right;\">\n",
       "      <th></th>\n",
       "      <th>club</th>\n",
       "      <th>shooting</th>\n",
       "      <th>dribbling_control</th>\n",
       "      <th>passing_vision</th>\n",
       "      <th>tackling_interception</th>\n",
       "      <th>aerial_defense</th>\n",
       "      <th>speed_agility</th>\n",
       "      <th>strength_stamina</th>\n",
       "      <th>decision_making</th>\n",
       "      <th>work_ethic_effort</th>\n",
       "      <th>leadership</th>\n",
       "      <th>teamwork</th>\n",
       "      <th>goalkeeping_abilities</th>\n",
       "      <th>behavioral_attributes</th>\n",
       "      <th>player_traits</th>\n",
       "      <th>club_rating</th>\n",
       "    </tr>\n",
       "  </thead>\n",
       "  <tbody>\n",
       "    <tr>\n",
       "      <th>1592</th>\n",
       "      <td>Club Brugge</td>\n",
       "      <td>8.333333</td>\n",
       "      <td>11.083333</td>\n",
       "      <td>10.166667</td>\n",
       "      <td>14.25</td>\n",
       "      <td>9.0</td>\n",
       "      <td>11.555556</td>\n",
       "      <td>14.333333</td>\n",
       "      <td>12.833333</td>\n",
       "      <td>13.888889</td>\n",
       "      <td>7.0</td>\n",
       "      <td>14.666667</td>\n",
       "      <td>2.285714</td>\n",
       "      <td>8.166667</td>\n",
       "      <td>1.333333</td>\n",
       "      <td>1657.0</td>\n",
       "    </tr>\n",
       "  </tbody>\n",
       "</table>\n",
       "</div>"
      ],
      "text/plain": [
       "             club  shooting  dribbling_control  passing_vision  \\\n",
       "1592  Club Brugge  8.333333          11.083333       10.166667   \n",
       "\n",
       "      tackling_interception  aerial_defense  speed_agility  strength_stamina  \\\n",
       "1592                  14.25             9.0      11.555556         14.333333   \n",
       "\n",
       "      decision_making  work_ethic_effort  leadership   teamwork  \\\n",
       "1592        12.833333          13.888889         7.0  14.666667   \n",
       "\n",
       "      goalkeeping_abilities  behavioral_attributes  player_traits  club_rating  \n",
       "1592               2.285714               8.166667       1.333333       1657.0  "
      ]
     },
     "execution_count": 50,
     "metadata": {},
     "output_type": "execute_result"
    }
   ],
   "source": [
    "df1"
   ]
  },
  {
   "cell_type": "code",
   "execution_count": 51,
   "id": "b8921545",
   "metadata": {},
   "outputs": [
    {
     "data": {
      "text/html": [
       "<div>\n",
       "<style scoped>\n",
       "    .dataframe tbody tr th:only-of-type {\n",
       "        vertical-align: middle;\n",
       "    }\n",
       "\n",
       "    .dataframe tbody tr th {\n",
       "        vertical-align: top;\n",
       "    }\n",
       "\n",
       "    .dataframe thead th {\n",
       "        text-align: right;\n",
       "    }\n",
       "</style>\n",
       "<table border=\"1\" class=\"dataframe\">\n",
       "  <thead>\n",
       "    <tr style=\"text-align: right;\">\n",
       "      <th></th>\n",
       "      <th>club</th>\n",
       "      <th>shooting</th>\n",
       "      <th>dribbling_control</th>\n",
       "      <th>passing_vision</th>\n",
       "      <th>tackling_interception</th>\n",
       "      <th>aerial_defense</th>\n",
       "      <th>speed_agility</th>\n",
       "      <th>strength_stamina</th>\n",
       "      <th>decision_making</th>\n",
       "      <th>work_ethic_effort</th>\n",
       "      <th>leadership</th>\n",
       "      <th>teamwork</th>\n",
       "      <th>goalkeeping_abilities</th>\n",
       "      <th>behavioral_attributes</th>\n",
       "      <th>player_traits</th>\n",
       "      <th>club_rating</th>\n",
       "    </tr>\n",
       "  </thead>\n",
       "  <tbody>\n",
       "    <tr>\n",
       "      <th>0</th>\n",
       "      <td>Man City</td>\n",
       "      <td>7.75</td>\n",
       "      <td>12.416667</td>\n",
       "      <td>10.444444</td>\n",
       "      <td>15.416667</td>\n",
       "      <td>10.222222</td>\n",
       "      <td>13.444444</td>\n",
       "      <td>14.555556</td>\n",
       "      <td>15.0</td>\n",
       "      <td>15.555556</td>\n",
       "      <td>8.333333</td>\n",
       "      <td>15.0</td>\n",
       "      <td>2.380952</td>\n",
       "      <td>8.833333</td>\n",
       "      <td>1.666667</td>\n",
       "      <td>2013.0</td>\n",
       "    </tr>\n",
       "  </tbody>\n",
       "</table>\n",
       "</div>"
      ],
      "text/plain": [
       "       club  shooting  dribbling_control  passing_vision  \\\n",
       "0  Man City      7.75          12.416667       10.444444   \n",
       "\n",
       "   tackling_interception  aerial_defense  speed_agility  strength_stamina  \\\n",
       "0              15.416667       10.222222      13.444444         14.555556   \n",
       "\n",
       "   decision_making  work_ethic_effort  leadership  teamwork  \\\n",
       "0             15.0          15.555556    8.333333      15.0   \n",
       "\n",
       "   goalkeeping_abilities  behavioral_attributes  player_traits  club_rating  \n",
       "0               2.380952               8.833333       1.666667       2013.0  "
      ]
     },
     "execution_count": 51,
     "metadata": {},
     "output_type": "execute_result"
    }
   ],
   "source": [
    "df2"
   ]
  },
  {
   "cell_type": "code",
   "execution_count": 53,
   "id": "049bedce",
   "metadata": {
    "scrolled": true
   },
   "outputs": [
    {
     "data": {
      "text/html": [
       "<div>\n",
       "<style scoped>\n",
       "    .dataframe tbody tr th:only-of-type {\n",
       "        vertical-align: middle;\n",
       "    }\n",
       "\n",
       "    .dataframe tbody tr th {\n",
       "        vertical-align: top;\n",
       "    }\n",
       "\n",
       "    .dataframe thead th {\n",
       "        text-align: right;\n",
       "    }\n",
       "</style>\n",
       "<table border=\"1\" class=\"dataframe\">\n",
       "  <thead>\n",
       "    <tr style=\"text-align: right;\">\n",
       "      <th></th>\n",
       "      <th>club</th>\n",
       "      <th>shooting</th>\n",
       "      <th>dribbling_control</th>\n",
       "      <th>passing_vision</th>\n",
       "      <th>tackling_interception</th>\n",
       "      <th>aerial_defense</th>\n",
       "      <th>speed_agility</th>\n",
       "      <th>strength_stamina</th>\n",
       "      <th>decision_making</th>\n",
       "      <th>work_ethic_effort</th>\n",
       "      <th>leadership</th>\n",
       "      <th>teamwork</th>\n",
       "      <th>goalkeeping_abilities</th>\n",
       "      <th>behavioral_attributes</th>\n",
       "      <th>player_traits</th>\n",
       "      <th>club_rating</th>\n",
       "    </tr>\n",
       "  </thead>\n",
       "  <tbody>\n",
       "    <tr>\n",
       "      <th>0</th>\n",
       "      <td>NaN</td>\n",
       "      <td>NaN</td>\n",
       "      <td>NaN</td>\n",
       "      <td>NaN</td>\n",
       "      <td>NaN</td>\n",
       "      <td>NaN</td>\n",
       "      <td>NaN</td>\n",
       "      <td>NaN</td>\n",
       "      <td>NaN</td>\n",
       "      <td>NaN</td>\n",
       "      <td>NaN</td>\n",
       "      <td>NaN</td>\n",
       "      <td>NaN</td>\n",
       "      <td>NaN</td>\n",
       "      <td>NaN</td>\n",
       "      <td>NaN</td>\n",
       "    </tr>\n",
       "    <tr>\n",
       "      <th>1592</th>\n",
       "      <td>NaN</td>\n",
       "      <td>NaN</td>\n",
       "      <td>NaN</td>\n",
       "      <td>NaN</td>\n",
       "      <td>NaN</td>\n",
       "      <td>NaN</td>\n",
       "      <td>NaN</td>\n",
       "      <td>NaN</td>\n",
       "      <td>NaN</td>\n",
       "      <td>NaN</td>\n",
       "      <td>NaN</td>\n",
       "      <td>NaN</td>\n",
       "      <td>NaN</td>\n",
       "      <td>NaN</td>\n",
       "      <td>NaN</td>\n",
       "      <td>NaN</td>\n",
       "    </tr>\n",
       "  </tbody>\n",
       "</table>\n",
       "</div>"
      ],
      "text/plain": [
       "     club  shooting  dribbling_control  passing_vision  tackling_interception  \\\n",
       "0     NaN       NaN                NaN             NaN                    NaN   \n",
       "1592  NaN       NaN                NaN             NaN                    NaN   \n",
       "\n",
       "      aerial_defense  speed_agility  strength_stamina  decision_making  \\\n",
       "0                NaN            NaN               NaN              NaN   \n",
       "1592             NaN            NaN               NaN              NaN   \n",
       "\n",
       "      work_ethic_effort  leadership  teamwork  goalkeeping_abilities  \\\n",
       "0                   NaN         NaN       NaN                    NaN   \n",
       "1592                NaN         NaN       NaN                    NaN   \n",
       "\n",
       "      behavioral_attributes  player_traits  club_rating  \n",
       "0                       NaN            NaN          NaN  \n",
       "1592                    NaN            NaN          NaN  "
      ]
     },
     "execution_count": 53,
     "metadata": {},
     "output_type": "execute_result"
    }
   ],
   "source": [
    "df1.subtract(df2)"
   ]
  },
  {
   "cell_type": "code",
   "execution_count": 55,
   "id": "66092e4e",
   "metadata": {},
   "outputs": [
    {
     "name": "stderr",
     "output_type": "stream",
     "text": [
      "/var/folders/pv/hj9fs4fx3fn0k6t5l6qmlh6m0000gn/T/ipykernel_27905/315278982.py:1: SettingWithCopyWarning: \n",
      "A value is trying to be set on a copy of a slice from a DataFrame\n",
      "\n",
      "See the caveats in the documentation: https://pandas.pydata.org/pandas-docs/stable/user_guide/indexing.html#returning-a-view-versus-a-copy\n",
      "  df1.drop(columns=['club'], inplace=True)\n",
      "/var/folders/pv/hj9fs4fx3fn0k6t5l6qmlh6m0000gn/T/ipykernel_27905/315278982.py:2: SettingWithCopyWarning: \n",
      "A value is trying to be set on a copy of a slice from a DataFrame\n",
      "\n",
      "See the caveats in the documentation: https://pandas.pydata.org/pandas-docs/stable/user_guide/indexing.html#returning-a-view-versus-a-copy\n",
      "  df2.drop(columns=['club'], inplace=True)\n"
     ]
    }
   ],
   "source": [
    "df1.drop(columns=['club'], inplace=True)\n",
    "df2.drop(columns=['club'], inplace=True)"
   ]
  },
  {
   "cell_type": "code",
   "execution_count": 57,
   "id": "6d39c384",
   "metadata": {},
   "outputs": [],
   "source": [
    "subtracted_df = df2.sub(df1, fill_value=0)"
   ]
  },
  {
   "cell_type": "code",
   "execution_count": 58,
   "id": "fe152a3e",
   "metadata": {},
   "outputs": [
    {
     "data": {
      "text/html": [
       "<div>\n",
       "<style scoped>\n",
       "    .dataframe tbody tr th:only-of-type {\n",
       "        vertical-align: middle;\n",
       "    }\n",
       "\n",
       "    .dataframe tbody tr th {\n",
       "        vertical-align: top;\n",
       "    }\n",
       "\n",
       "    .dataframe thead th {\n",
       "        text-align: right;\n",
       "    }\n",
       "</style>\n",
       "<table border=\"1\" class=\"dataframe\">\n",
       "  <thead>\n",
       "    <tr style=\"text-align: right;\">\n",
       "      <th></th>\n",
       "      <th>shooting</th>\n",
       "      <th>dribbling_control</th>\n",
       "      <th>passing_vision</th>\n",
       "      <th>tackling_interception</th>\n",
       "      <th>aerial_defense</th>\n",
       "      <th>speed_agility</th>\n",
       "      <th>strength_stamina</th>\n",
       "      <th>decision_making</th>\n",
       "      <th>work_ethic_effort</th>\n",
       "      <th>leadership</th>\n",
       "      <th>teamwork</th>\n",
       "      <th>goalkeeping_abilities</th>\n",
       "      <th>behavioral_attributes</th>\n",
       "      <th>player_traits</th>\n",
       "      <th>club_rating</th>\n",
       "    </tr>\n",
       "  </thead>\n",
       "  <tbody>\n",
       "    <tr>\n",
       "      <th>0</th>\n",
       "      <td>7.750000</td>\n",
       "      <td>12.416667</td>\n",
       "      <td>10.444444</td>\n",
       "      <td>15.416667</td>\n",
       "      <td>10.222222</td>\n",
       "      <td>13.444444</td>\n",
       "      <td>14.555556</td>\n",
       "      <td>15.000000</td>\n",
       "      <td>15.555556</td>\n",
       "      <td>8.333333</td>\n",
       "      <td>15.000000</td>\n",
       "      <td>2.380952</td>\n",
       "      <td>8.833333</td>\n",
       "      <td>1.666667</td>\n",
       "      <td>2013.0</td>\n",
       "    </tr>\n",
       "    <tr>\n",
       "      <th>1592</th>\n",
       "      <td>-8.333333</td>\n",
       "      <td>-11.083333</td>\n",
       "      <td>-10.166667</td>\n",
       "      <td>-14.250000</td>\n",
       "      <td>-9.000000</td>\n",
       "      <td>-11.555556</td>\n",
       "      <td>-14.333333</td>\n",
       "      <td>-12.833333</td>\n",
       "      <td>-13.888889</td>\n",
       "      <td>-7.000000</td>\n",
       "      <td>-14.666667</td>\n",
       "      <td>-2.285714</td>\n",
       "      <td>-8.166667</td>\n",
       "      <td>-1.333333</td>\n",
       "      <td>-1657.0</td>\n",
       "    </tr>\n",
       "  </tbody>\n",
       "</table>\n",
       "</div>"
      ],
      "text/plain": [
       "      shooting  dribbling_control  passing_vision  tackling_interception  \\\n",
       "0     7.750000          12.416667       10.444444              15.416667   \n",
       "1592 -8.333333         -11.083333      -10.166667             -14.250000   \n",
       "\n",
       "      aerial_defense  speed_agility  strength_stamina  decision_making  \\\n",
       "0          10.222222      13.444444         14.555556        15.000000   \n",
       "1592       -9.000000     -11.555556        -14.333333       -12.833333   \n",
       "\n",
       "      work_ethic_effort  leadership   teamwork  goalkeeping_abilities  \\\n",
       "0             15.555556    8.333333  15.000000               2.380952   \n",
       "1592         -13.888889   -7.000000 -14.666667              -2.285714   \n",
       "\n",
       "      behavioral_attributes  player_traits  club_rating  \n",
       "0                  8.833333       1.666667       2013.0  \n",
       "1592              -8.166667      -1.333333      -1657.0  "
      ]
     },
     "execution_count": 58,
     "metadata": {},
     "output_type": "execute_result"
    }
   ],
   "source": [
    "subtracted_df"
   ]
  },
  {
   "cell_type": "code",
   "execution_count": 59,
   "id": "70937ff8",
   "metadata": {},
   "outputs": [],
   "source": [
    "row_sums = subtracted_df.sum(axis=0)"
   ]
  },
  {
   "cell_type": "code",
   "execution_count": null,
   "id": "54cc904a",
   "metadata": {},
   "outputs": [],
   "source": []
  },
  {
   "cell_type": "code",
   "execution_count": 60,
   "id": "d46f4812",
   "metadata": {},
   "outputs": [
    {
     "data": {
      "text/html": [
       "<div>\n",
       "<style scoped>\n",
       "    .dataframe tbody tr th:only-of-type {\n",
       "        vertical-align: middle;\n",
       "    }\n",
       "\n",
       "    .dataframe tbody tr th {\n",
       "        vertical-align: top;\n",
       "    }\n",
       "\n",
       "    .dataframe thead th {\n",
       "        text-align: right;\n",
       "    }\n",
       "</style>\n",
       "<table border=\"1\" class=\"dataframe\">\n",
       "  <thead>\n",
       "    <tr style=\"text-align: right;\">\n",
       "      <th></th>\n",
       "      <th>shooting</th>\n",
       "      <th>dribbling_control</th>\n",
       "      <th>passing_vision</th>\n",
       "      <th>tackling_interception</th>\n",
       "      <th>aerial_defense</th>\n",
       "      <th>speed_agility</th>\n",
       "      <th>strength_stamina</th>\n",
       "      <th>decision_making</th>\n",
       "      <th>work_ethic_effort</th>\n",
       "      <th>leadership</th>\n",
       "      <th>teamwork</th>\n",
       "      <th>goalkeeping_abilities</th>\n",
       "      <th>behavioral_attributes</th>\n",
       "      <th>player_traits</th>\n",
       "      <th>club_rating</th>\n",
       "    </tr>\n",
       "  </thead>\n",
       "  <tbody>\n",
       "    <tr>\n",
       "      <th>0</th>\n",
       "      <td>-0.583333</td>\n",
       "      <td>1.333333</td>\n",
       "      <td>0.277778</td>\n",
       "      <td>1.166667</td>\n",
       "      <td>1.222222</td>\n",
       "      <td>1.888889</td>\n",
       "      <td>0.222222</td>\n",
       "      <td>2.166667</td>\n",
       "      <td>1.666667</td>\n",
       "      <td>1.333333</td>\n",
       "      <td>0.333333</td>\n",
       "      <td>0.095238</td>\n",
       "      <td>0.666667</td>\n",
       "      <td>0.333333</td>\n",
       "      <td>356.0</td>\n",
       "    </tr>\n",
       "  </tbody>\n",
       "</table>\n",
       "</div>"
      ],
      "text/plain": [
       "   shooting  dribbling_control  passing_vision  tackling_interception  \\\n",
       "0 -0.583333           1.333333        0.277778               1.166667   \n",
       "\n",
       "   aerial_defense  speed_agility  strength_stamina  decision_making  \\\n",
       "0        1.222222       1.888889          0.222222         2.166667   \n",
       "\n",
       "   work_ethic_effort  leadership  teamwork  goalkeeping_abilities  \\\n",
       "0           1.666667    1.333333  0.333333               0.095238   \n",
       "\n",
       "   behavioral_attributes  player_traits  club_rating  \n",
       "0               0.666667       0.333333        356.0  "
      ]
     },
     "execution_count": 60,
     "metadata": {},
     "output_type": "execute_result"
    }
   ],
   "source": [
    "pd.DataFrame(row_sums).T"
   ]
  },
  {
   "cell_type": "code",
   "execution_count": null,
   "id": "78ef5183",
   "metadata": {},
   "outputs": [],
   "source": []
  }
 ],
 "metadata": {
  "kernelspec": {
   "display_name": "Python 3 (ipykernel)",
   "language": "python",
   "name": "python3"
  },
  "language_info": {
   "codemirror_mode": {
    "name": "ipython",
    "version": 3
   },
   "file_extension": ".py",
   "mimetype": "text/x-python",
   "name": "python",
   "nbconvert_exporter": "python",
   "pygments_lexer": "ipython3",
   "version": "3.10.6"
  },
  "toc": {
   "base_numbering": 1,
   "nav_menu": {},
   "number_sections": true,
   "sideBar": true,
   "skip_h1_title": false,
   "title_cell": "Table of Contents",
   "title_sidebar": "Contents",
   "toc_cell": false,
   "toc_position": {},
   "toc_section_display": true,
   "toc_window_display": false
  }
 },
 "nbformat": 4,
 "nbformat_minor": 5
}
