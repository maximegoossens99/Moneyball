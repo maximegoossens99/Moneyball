{
 "cells": [
  {
   "cell_type": "code",
   "execution_count": 1,
   "id": "df7f9d41",
   "metadata": {},
   "outputs": [],
   "source": [
    "import pandas as pd"
   ]
  },
  {
   "cell_type": "code",
   "execution_count": 2,
   "id": "7b02cf16",
   "metadata": {},
   "outputs": [],
   "source": [
    "df = pd.read_csv(\"../raw_data/clean_data.csv\")"
   ]
  },
  {
   "cell_type": "code",
   "execution_count": 3,
   "id": "4d22b0e1",
   "metadata": {},
   "outputs": [
    {
     "data": {
      "text/plain": [
       "Index(['name', 'club', 'nat', 'position', 'dob', 'age', 'height', 'weight',\n",
       "       'wage', 'last trans. fee', 'value', 'agg', 'jum', 'pun', 'vis', 'l th',\n",
       "       'lon', 'otb', 'tck', 'tec', 'tea', 'cmp', 'fre', 'ref', 'pos', 'pen',\n",
       "       'pas', 'fla', 'ant', 'cro', 'mar', 'ldr', 'cor', 'cnt', 'det', 'dec',\n",
       "       'hea', 'fir', 'com', 'acc', 'pac', 'aer', 'str', 'thr', 'han', 'ecc',\n",
       "       'dri', 'bal', 'kic', 'sta', 'agi', 'wor', 'bra', 'cmd', 'fin', '1v1',\n",
       "       'tro', 'centerback', 'fullback', 'goalkeeper', 'midfielder', 'striker',\n",
       "       'winger', 'division_rating', 'nat_rating', 'club_rating', 'either_left',\n",
       "       'either_right', 'left', 'right'],\n",
       "      dtype='object')"
      ]
     },
     "execution_count": 3,
     "metadata": {},
     "output_type": "execute_result"
    }
   ],
   "source": [
    "df.columns"
   ]
  },
  {
   "cell_type": "code",
   "execution_count": 4,
   "id": "7f169c5e",
   "metadata": {},
   "outputs": [],
   "source": [
    "# Step 1: Drop rows where the club is equal to 'Other'\n",
    "df = df[df['club'] != 'Other']"
   ]
  },
  {
   "cell_type": "markdown",
   "id": "4b2f1d8f",
   "metadata": {},
   "source": [
    "#  create fictive player"
   ]
  },
  {
   "cell_type": "markdown",
   "id": "8b599a21",
   "metadata": {
    "heading_collapsed": true
   },
   "source": [
    "## create new dataframes for each position grouped by teams"
   ]
  },
  {
   "cell_type": "code",
   "execution_count": 5,
   "id": "79b6c37e",
   "metadata": {
    "hidden": true
   },
   "outputs": [],
   "source": [
    "def filter_position(df, club, position, max_count):\n",
    "    filtered_df = df[(df['club'] == club) & (df[position] == 1)]\n",
    "    return filtered_df.head(max_count)\n",
    "\n",
    "def avg_position(df, club, position, max_count):\n",
    "    filtered_df = filter_position(df, club, position, max_count)\n",
    "    return filtered_df.groupby('club').mean()\n",
    "\n",
    "def filter_and_append(avg_position_df, df, club, position, max_count):\n",
    "    filtered_df = avg_position(df, club, position, max_count)\n",
    "    return pd.concat([avg_position_df, filtered_df])\n",
    "\n",
    "goalkeepers = pd.DataFrame()\n",
    "centerbacks = pd.DataFrame()\n",
    "fullbacks = pd.DataFrame()\n",
    "midfielders = pd.DataFrame()\n",
    "wingers = pd.DataFrame()\n",
    "strikers = pd.DataFrame()\n",
    "\n",
    "for club in df['club'].unique():\n",
    "    goalkeepers = filter_and_append(goalkeepers, df, club, 'goalkeeper', 2)\n",
    "    centerbacks = filter_and_append(centerbacks, df, club, 'centerback', 3)\n",
    "    fullbacks = filter_and_append(fullbacks, df, club, 'fullback', 4)\n",
    "    midfielders = filter_and_append(midfielders, df, club, 'midfielder', 5)\n",
    "    wingers = filter_and_append(wingers, df, club, 'winger', 4)\n",
    "    strikers = filter_and_append(strikers, df, club, 'striker', 2)"
   ]
  },
  {
   "cell_type": "markdown",
   "id": "ef92605d",
   "metadata": {},
   "source": [
    "## grouped features"
   ]
  },
  {
   "cell_type": "markdown",
   "id": "e9f82bde",
   "metadata": {
    "heading_collapsed": true
   },
   "source": [
    "### definition"
   ]
  },
  {
   "cell_type": "code",
   "execution_count": 6,
   "id": "47fc6914",
   "metadata": {
    "hidden": true
   },
   "outputs": [],
   "source": [
    "def create_grouped_features(df):\n",
    "    # Offensive Skills\n",
    "    df['shooting'] = df[['fin', 'lon', 'fre', 'pen']].mean(axis=1)\n",
    "    df['dribbling_control'] = df[['dri', 'fir', 'fla', 'tec']].mean(axis=1)\n",
    "    df['passing_vision'] = df[['pas', 'vis', 'l th', 'cro', 'cor', 'otb']].mean(axis=1)\n",
    "    \n",
    "    # Defensive Skills\n",
    "    df['tackling_interception'] = df[['tck', 'mar', 'pos', 'ant']].mean(axis=1)\n",
    "    df['aerial_defense'] = df[['hea', 'jum', 'aer']].mean(axis=1)\n",
    "    \n",
    "    # Physical Attributes\n",
    "    df['speed_agility'] = df[['acc', 'pac', 'agi']].mean(axis=1)\n",
    "    df['strength_stamina'] = df[['str', 'sta', 'bal']].mean(axis=1)\n",
    "    \n",
    "    # Mental and Tactical Attributes\n",
    "    df['decision_making'] = df[['dec', 'cmp']].mean(axis=1)\n",
    "    df['work_ethic_effort'] = df[['wor', 'det', 'bra']].mean(axis=1)\n",
    "    \n",
    "    # Leadership and Teamwork\n",
    "    df['leadership'] = df[['ldr', 'com']].mean(axis=1)\n",
    "    df['teamwork'] = df['tea']\n",
    "    \n",
    "    # Goalkeeping Abilities\n",
    "    df['goalkeeping_abilities'] = df[['han', 'ref', 'kic', 'thr', '1v1', 'ecc', 'cmd']].mean(axis=1)\n",
    "    \n",
    "    # Behavioral Attributes\n",
    "    df['behavioral_attributes'] = df[['agg', 'pun']].mean(axis=1)\n",
    "    \n",
    "    # Player Traits\n",
    "    df['player_traits'] = df['tro']\n",
    "    \n",
    "    # Create a new DataFrame with the grouped features\n",
    "    dfgf = df[['shooting', 'dribbling_control', 'passing_vision', 'tackling_interception', \n",
    "               'aerial_defense', 'speed_agility', 'strength_stamina', 'decision_making', \n",
    "               'work_ethic_effort', 'leadership', 'teamwork', 'goalkeeping_abilities', \n",
    "               'behavioral_attributes', 'player_traits', 'club_rating']]\n",
    "    \n",
    "    return dfgf"
   ]
  },
  {
   "cell_type": "markdown",
   "id": "51e3c493",
   "metadata": {
    "heading_collapsed": true
   },
   "source": [
    "### positions dataframe"
   ]
  },
  {
   "cell_type": "code",
   "execution_count": 7,
   "id": "e7a38554",
   "metadata": {
    "hidden": true
   },
   "outputs": [],
   "source": [
    "goalkeepers = create_grouped_features(goalkeepers)\n",
    "centerbacks = create_grouped_features(centerbacks)\n",
    "midfielders = create_grouped_features(midfielders)\n",
    "wingers = create_grouped_features(wingers)\n",
    "strikers = create_grouped_features(strikers)"
   ]
  },
  {
   "cell_type": "code",
   "execution_count": 9,
   "id": "0d7ec8f9",
   "metadata": {
    "hidden": true
   },
   "outputs": [],
   "source": [
    "def custom_scaler(dfgf_no_name):\n",
    "    total_score = dfgf_no_name.sum(axis=1)\n",
    "    scaled_dfgf_no_name = dfgf_no_name.div(total_score, axis=0)\n",
    "    return scaled_dfgf_no_name"
   ]
  },
  {
   "cell_type": "code",
   "execution_count": 14,
   "id": "02a7529b",
   "metadata": {
    "hidden": true
   },
   "outputs": [],
   "source": [
    "def compare_teams(df, team1, team2):\n",
    "    df1 = df.loc[team1]\n",
    "    df2 = df.loc[team2]\n",
    "    return custom_scaler(pd.DataFrame(df1.subtract(df2)).T.drop(columns=['club_rating', 'goalkeeping_abilities']))"
   ]
  },
  {
   "cell_type": "markdown",
   "id": "48f5e3e4",
   "metadata": {},
   "source": [
    "### example"
   ]
  },
  {
   "cell_type": "code",
   "execution_count": 15,
   "id": "99d4289c",
   "metadata": {},
   "outputs": [],
   "source": [
    "Nino = compare_teams(midfielders, 'Man City', 'Club Brugge')"
   ]
  },
  {
   "cell_type": "code",
   "execution_count": 16,
   "id": "81d9d729",
   "metadata": {},
   "outputs": [
    {
     "data": {
      "text/html": [
       "<div>\n",
       "<style scoped>\n",
       "    .dataframe tbody tr th:only-of-type {\n",
       "        vertical-align: middle;\n",
       "    }\n",
       "\n",
       "    .dataframe tbody tr th {\n",
       "        vertical-align: top;\n",
       "    }\n",
       "\n",
       "    .dataframe thead th {\n",
       "        text-align: right;\n",
       "    }\n",
       "</style>\n",
       "<table border=\"1\" class=\"dataframe\">\n",
       "  <thead>\n",
       "    <tr style=\"text-align: right;\">\n",
       "      <th></th>\n",
       "      <th>shooting</th>\n",
       "      <th>dribbling_control</th>\n",
       "      <th>passing_vision</th>\n",
       "      <th>tackling_interception</th>\n",
       "      <th>aerial_defense</th>\n",
       "      <th>speed_agility</th>\n",
       "      <th>strength_stamina</th>\n",
       "      <th>decision_making</th>\n",
       "      <th>work_ethic_effort</th>\n",
       "      <th>leadership</th>\n",
       "      <th>teamwork</th>\n",
       "      <th>behavioral_attributes</th>\n",
       "      <th>player_traits</th>\n",
       "    </tr>\n",
       "  </thead>\n",
       "  <tbody>\n",
       "    <tr>\n",
       "      <th>0</th>\n",
       "      <td>0.146484</td>\n",
       "      <td>0.205078</td>\n",
       "      <td>0.123047</td>\n",
       "      <td>0.099609</td>\n",
       "      <td>-0.046875</td>\n",
       "      <td>0.191406</td>\n",
       "      <td>0.140625</td>\n",
       "      <td>0.158203</td>\n",
       "      <td>0.046875</td>\n",
       "      <td>-0.035156</td>\n",
       "      <td>0.035156</td>\n",
       "      <td>-0.087891</td>\n",
       "      <td>0.023438</td>\n",
       "    </tr>\n",
       "  </tbody>\n",
       "</table>\n",
       "</div>"
      ],
      "text/plain": [
       "   shooting  dribbling_control  passing_vision  tackling_interception  \\\n",
       "0  0.146484           0.205078        0.123047               0.099609   \n",
       "\n",
       "   aerial_defense  speed_agility  strength_stamina  decision_making  \\\n",
       "0       -0.046875       0.191406          0.140625         0.158203   \n",
       "\n",
       "   work_ethic_effort  leadership  teamwork  behavioral_attributes  \\\n",
       "0           0.046875   -0.035156  0.035156              -0.087891   \n",
       "\n",
       "   player_traits  \n",
       "0       0.023438  "
      ]
     },
     "execution_count": 16,
     "metadata": {},
     "output_type": "execute_result"
    }
   ],
   "source": [
    "Nino"
   ]
  },
  {
   "cell_type": "markdown",
   "id": "c5eac4a0",
   "metadata": {},
   "source": [
    "# Part 2"
   ]
  },
  {
   "cell_type": "code",
   "execution_count": null,
   "id": "eccf1976",
   "metadata": {},
   "outputs": [],
   "source": []
  }
 ],
 "metadata": {
  "kernelspec": {
   "display_name": "Python 3 (ipykernel)",
   "language": "python",
   "name": "python3"
  },
  "language_info": {
   "codemirror_mode": {
    "name": "ipython",
    "version": 3
   },
   "file_extension": ".py",
   "mimetype": "text/x-python",
   "name": "python",
   "nbconvert_exporter": "python",
   "pygments_lexer": "ipython3",
   "version": "3.10.6"
  },
  "toc": {
   "base_numbering": 1,
   "nav_menu": {},
   "number_sections": true,
   "sideBar": true,
   "skip_h1_title": false,
   "title_cell": "Table of Contents",
   "title_sidebar": "Contents",
   "toc_cell": false,
   "toc_position": {},
   "toc_section_display": true,
   "toc_window_display": false
  }
 },
 "nbformat": 4,
 "nbformat_minor": 5
}
